{
 "cells": [
  {
   "cell_type": "code",
   "execution_count": 1,
   "id": "5deeb049",
   "metadata": {},
   "outputs": [],
   "source": [
    "import os, tqdm, re\n",
    "from tqdm import tqdm\n",
    "from jamo import h2j\n",
    "from glob import glob"
   ]
  },
  {
   "cell_type": "code",
   "execution_count": 2,
   "id": "2227ee5d",
   "metadata": {},
   "outputs": [],
   "source": [
    "text = '../archive/transcript.v.1.4.txt'"
   ]
  },
  {
   "cell_type": "code",
   "execution_count": 3,
   "id": "0a83262d",
   "metadata": {},
   "outputs": [],
   "source": [
    "base_dir = '../archive/kss'"
   ]
  },
  {
   "cell_type": "code",
   "execution_count": 4,
   "id": "5d563116",
   "metadata": {},
   "outputs": [],
   "source": [
    "filters = '([.,!?])'"
   ]
  },
  {
   "cell_type": "code",
   "execution_count": 5,
   "id": "aa4ba441",
   "metadata": {},
   "outputs": [],
   "source": [
    "with open(text, 'r', encoding='utf-8') as f:\n",
    "    for line in f.readlines():\n",
    "        temp = line.split('|')\n",
    "        file_dir, script = temp[0], temp[3]\n",
    "        script = re.sub(re.compile(filters), '', script)\n",
    "        file_dir = file_dir.split('/')\n",
    "        fn = file_dir[0] + '/' + file_dir[1][:-3] + 'lab'\n",
    "        file_dir = os.path.join(base_dir, fn)\n",
    "        with open(file_dir, 'w', encoding='utf-8') as f:\n",
    "            f.write(script)"
   ]
  },
  {
   "cell_type": "code",
   "execution_count": 6,
   "id": "54da106c",
   "metadata": {},
   "outputs": [],
   "source": [
    "file_list = sorted(glob(os.path.join(base_dir, '**/*.lab')))"
   ]
  },
  {
   "cell_type": "code",
   "execution_count": 7,
   "id": "36189281",
   "metadata": {},
   "outputs": [
    {
     "name": "stderr",
     "output_type": "stream",
     "text": [
      "100%|██████████| 12854/12854 [00:01<00:00, 7085.63it/s]\n"
     ]
    }
   ],
   "source": [
    "jamo_dict = {}\n",
    "for file_name in tqdm(file_list):\n",
    "    sentence =  open(file_name, 'r', encoding='utf-8').readline()\n",
    "    jamo = h2j(sentence).split(' ')\n",
    "    \n",
    "    for i, s in enumerate(jamo):\n",
    "        if s not in jamo_dict:\n",
    "            jamo_dict[s] = ' '.join(jamo[i])"
   ]
  },
  {
   "cell_type": "code",
   "execution_count": 8,
   "id": "16312a0d",
   "metadata": {},
   "outputs": [],
   "source": [
    "dict_name = '/Users/pkjh/Downloads/archive/korean_dict.txt'"
   ]
  },
  {
   "cell_type": "code",
   "execution_count": 9,
   "id": "8d1dfae8",
   "metadata": {},
   "outputs": [],
   "source": [
    "with open(dict_name, 'w', encoding='utf-8') as f:\n",
    "    for key in jamo_dict.keys():\n",
    "        content = '{}\\t{}\\n'.format(key, jamo_dict[key])\n",
    "        f.write(content)"
   ]
  },
  {
   "cell_type": "code",
   "execution_count": 15,
   "id": "0dc04d6d",
   "metadata": {},
   "outputs": [
    {
     "name": "stdout",
     "output_type": "stream",
     "text": [
      "\t\n",
      "\n"
     ]
    }
   ],
   "source": [
    "with open('../archive/korean_dict.txt', 'r', encoding='utf-8') as r:\n",
    "    texts = r.readlines()"
   ]
  },
  {
   "cell_type": "code",
   "execution_count": null,
   "id": "7f272b77",
   "metadata": {},
   "outputs": [],
   "source": []
  }
 ],
 "metadata": {
  "kernelspec": {
   "display_name": "aligner",
   "language": "python",
   "name": "python3"
  },
  "language_info": {
   "codemirror_mode": {
    "name": "ipython",
    "version": 3
   },
   "file_extension": ".py",
   "mimetype": "text/x-python",
   "name": "python",
   "nbconvert_exporter": "python",
   "pygments_lexer": "ipython3",
   "version": "3.11.12"
  }
 },
 "nbformat": 4,
 "nbformat_minor": 5
}
