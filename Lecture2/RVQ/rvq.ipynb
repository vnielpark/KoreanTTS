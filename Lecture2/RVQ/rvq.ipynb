{
 "cells": [
  {
   "cell_type": "code",
   "execution_count": null,
   "metadata": {},
   "outputs": [],
   "source": [
    "import librosa\n",
    "import numpy as np\n",
    "\n",
    "import torch\n",
    "import torch.nn as nn\n",
    "import torchaudio\n",
    "\n",
    "from vector_quantize_pytorch import ResidualVQ\n",
    "from conformer import Conformer"
   ]
  },
  {
   "cell_type": "code",
   "execution_count": null,
   "metadata": {},
   "outputs": [],
   "source": [
    "wav_path = './rvq_input.wav'\n",
    "wav, sr = torchaudio.load(wav_path)\n",
    "mel = librosa.feature.melspectrogram(\n",
    "    y=wav.numpy(), sr=sr, n_fft=1024, hop_length=256, n_mels=80)\n",
    "mel = librosa.power_to_db(mel, ref=np.max)\n",
    "mel = torch.tensor(mel, dtype=torch.float)"
   ]
  },
  {
   "cell_type": "code",
   "execution_count": null,
   "metadata": {},
   "outputs": [],
   "source": [
    "proj_linear = nn.Liear(80, 512)\n",
    "posterior_encoder = Conformer(dim = 512, depth = 6, dim_head = 64,\n",
    "                            heads = 8, ff_mult = 1024, conv_expansion_factor = 2,\n",
    "                            conv_kernel_size = 31, attn_dropout = 0., ff_dropout = 0.,\n",
    "                            conv_dropout = 0.)\n",
    "decoder = Conformer(dim = 512, depth = 6, dim_head = 64,\n",
    "                            heads = 8, ff_mult = 1024, conv_expansion_factor = 2,\n",
    "                            conv_kernel_size = 31, attn_dropout = 0., ff_dropout = 0.,\n",
    "                            conv_dropout = 0.)\n",
    "mel_liner = nn.Linear(512, 80)\n"
   ]
  },
  {
   "cell_type": "code",
   "execution_count": null,
   "metadata": {},
   "outputs": [],
   "source": [
    "residual_vq = ResidualVQ(\n",
    "    dim = 512,\n",
    "    num_quantizers = 8,      # specify number of quantizers\n",
    "    codebook_size = 1024,    # codebook size\n",
    ")"
   ]
  },
  {
   "cell_type": "code",
   "execution_count": null,
   "metadata": {},
   "outputs": [],
   "source": [
    "feat = proj_linear(mel.transpose(1,2))\n",
    "z = posterior_encoder(feat)\n",
    "quantized, indices, commit_loss = residual_vq(z)\n",
    "pred_mels = decoder(quantized)\n",
    "pred_mels = mel_liner(pred_mels)\n"
   ]
  },
  {
   "cell_type": "code",
   "execution_count": null,
   "metadata": {},
   "outputs": [],
   "source": [
    "# 만약 예측된 code가 있다면\n",
    "z = residual_vq.get_output_from_indices(quantized)"
   ]
  }
 ],
 "metadata": {
  "kernelspec": {
   "display_name": "rvq_tts",
   "language": "python",
   "name": "python3"
  },
  "language_info": {
   "codemirror_mode": {
    "name": "ipython",
    "version": 3
   },
   "file_extension": ".py",
   "mimetype": "text/x-python",
   "name": "python",
   "nbconvert_exporter": "python",
   "pygments_lexer": "ipython3",
   "version": "3.10.16"
  }
 },
 "nbformat": 4,
 "nbformat_minor": 2
}
